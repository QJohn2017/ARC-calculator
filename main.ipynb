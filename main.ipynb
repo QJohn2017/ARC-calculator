{
 "cells": [
  {
   "cell_type": "code",
   "execution_count": 161,
   "id": "offshore-price",
   "metadata": {},
   "outputs": [],
   "source": [
    "%matplotlib inline\n",
    "import matplotlib.pyplot as plt\n",
    "import numpy as np\n",
    "from IPython.core.display import display, HTML\n",
    "from arc import *"
   ]
  },
  {
   "cell_type": "markdown",
   "id": "inside-jewel",
   "metadata": {},
   "source": [
    "Some examples of functions provided by the ARC package."
   ]
  },
  {
   "cell_type": "code",
   "execution_count": 163,
   "id": "national-laptop",
   "metadata": {},
   "outputs": [
    {
     "name": "stdout",
     "output_type": "stream",
     "text": [
      "Radial matrix element: -0.46851974344738134\n",
      "Radial matrix element: -0.46851974344738134\n",
      "Reduced matrix element L: 0.4685197434473813\n",
      "Reduced matrix element L: -0.4685197434473813\n",
      "Reduced matrix element J: 0.541\n",
      "Reduced matrix element J: -0.541\n",
      "Dipole matrix element: 0.2705\n",
      "Dipole matrix element: -0.2705\n",
      "5S_{1/2} <-> 6P_{3/2}\n",
      "λ: 420.2989249729119 nm\n",
      "λ: -420.2989249729119 nm\n",
      "f: 713.2839038770359 THz\n",
      "f: -713.2839038770359 THz\n",
      "τ1: 1e+59 ns\n",
      "E: -0.07641510412387363\n",
      "Spontaneous radiation rate: 9174.0517887993\n"
     ]
    }
   ],
   "source": [
    "atom = Rubidium85()\n",
    "n1 = 5\n",
    "l1 = 0\n",
    "j1 = 0.5\n",
    "\n",
    "n2 = 6\n",
    "l2 = 1\n",
    "j2 = 1.5\n",
    "\n",
    "q = +1\n",
    "\n",
    "print(\"Radial matrix element:\", atom.getRadialMatrixElement(n1, l1, j1, n2, l2, j2))\n",
    "print(\"Radial matrix element:\", atom.getRadialMatrixElement(n2, l2, j2, n1, l1, j1))\n",
    "\n",
    "print(\"Reduced matrix element L:\", atom.getReducedMatrixElementL(n1, l1, j1, n2, l2, j2))\n",
    "print(\"Reduced matrix element L:\", atom.getReducedMatrixElementL(n2, l2, j2, n1, l1, j1))\n",
    "\n",
    "print(\"Reduced matrix element J:\", atom.getReducedMatrixElementJ(n1, l1, j1, n2, l2, j2))\n",
    "print(\"Reduced matrix element J:\", atom.getReducedMatrixElementJ(n2, l2, j2, n1, l1, j1))\n",
    "\n",
    "print(\"Dipole matrix element:\", atom.getDipoleMatrixElement(n1, l1, j1, j1, n2, l2, j2, j2, +q))\n",
    "print(\"Dipole matrix element:\", atom.getDipoleMatrixElement(n2, l2, j2, j2, n1, l1, j1, j1, -q))\n",
    "\n",
    "print(printStateStringLatex(n1, l1, j1), \"<->\", printStateStringLatex(n2, l2, j2))\n",
    "\n",
    "print(\"λ:\", atom.getTransitionWavelength(n1, l1, j1, n2, l2, j2)/1e-9, \"nm\")\n",
    "print(\"λ:\", atom.getTransitionWavelength(n2, l2, j2, n1, l1, j1)/1e-9, \"nm\")\n",
    "\n",
    "print(\"f:\", atom.getTransitionFrequency(n1, l1, j1, n2, l2, j2)/1e12, \"THz\")\n",
    "print(\"f:\", atom.getTransitionFrequency(n2, l2, j2, n1, l1, j1)/1e12, \"THz\")\n",
    "\n",
    "print(\"τ1:\", atom.getStateLifetime(n1, l1, j1)/1e-9, \"ns\")\n",
    "\n",
    "print(\"E:\", atom.getEnergy(16, 1, 0.5))\n",
    "\n",
    "\n",
    "print(\"Spontaneous radiation rate:\", atom.getTransitionRate(30, 0, 0.5, 3, 1, 0.5, temperature=300))"
   ]
  },
  {
   "cell_type": "markdown",
   "id": "oriented-bloom",
   "metadata": {},
   "source": [
    "Calculation of absorption spectrum. The results are stored in file \"absorption.dat\""
   ]
  },
  {
   "cell_type": "code",
   "execution_count": 183,
   "id": "color-jones",
   "metadata": {},
   "outputs": [],
   "source": [
    "def check_selection_rule(l1, l2, j1, j2):\n",
    "    return check_selection_rule_wigner_6j(j1, 1, j2, l2, 0.5, l1)\n",
    "\n",
    "def check_selection_rule_wigner_6j(j1, j2, j3, J1, J2, J3):\n",
    "    if ((abs(j1 - j2) > j3)\n",
    "        | (j1 + j2 < j3)\n",
    "        | (abs(j1 - J2) > J3)\n",
    "        | (j1 + J2 < J3)\n",
    "        | (abs(J1 - j2) > J3)\n",
    "        | (J1 + j2 < J3)\n",
    "        | (abs(J1 - J2) > j3)\n",
    "        | (J1 + J2 < j3)\n",
    "            ):\n",
    "        return -1\n",
    "\n",
    "    # Check if the sum of the elements of each traid is an integer\n",
    "    if ((2 * (j1 + j2 + j3) != round(2 * (j1 + j2 + j3)))\n",
    "        | (2 * (j1 + J2 + J3) != round(2 * (j1 + J2 + J3)))\n",
    "        | (2 * (J1 + j2 + J3) != round(2 * (J1 + j2 + J3)))\n",
    "        | (2 * (J1 + J2 + j3) != round(2 * (J1 + J2 + j3)))\n",
    "            ):\n",
    "        return -1\n",
    "    return 1\n",
    "\n",
    "def get_dipole_moment(n1, l1, j1, mj1, n2, l2, j2, mj2, q):\n",
    "    if q != 0:\n",
    "        if mj2 - mj1 != q:\n",
    "            return 0\n",
    "        if check_selection_rule(l1, l2, j1, j2) < 0:\n",
    "            return 0\n",
    "        return atom.getDipoleMatrixElement(n1, l1, j1, mj1, n2, l2, j2, mj2, q)\n",
    "    else:\n",
    "        if j1 == 0 and j2 == 0:\n",
    "            return 0\n",
    "        if mj2 - mj1 != q:\n",
    "            return 0\n",
    "        if check_selection_rule(l1, l2, j1, j2) < 0:\n",
    "            return 0\n",
    "        return atom.getDipoleMatrixElement(n1, l1, j1, mj1, n2, l2, j2, mj2, q)\n",
    "\n",
    "\n",
    "n_max = 30 # 40\n",
    "atom = Rubidium85()\n",
    "q = +1\n",
    "    \n",
    "with open(\"absorption.dat\", \"w\") as f:\n",
    "    for n1 in range(5, n_max):\n",
    "        for l1 in range(0, 4):\n",
    "            for n2 in range(n1, n_max):\n",
    "                for l2 in range(0, 4):\n",
    "                    \n",
    "                    if n1 == n2 and l1 == l2:\n",
    "                        continue\n",
    "\n",
    "                    j1_list = []\n",
    "                    j2_list = []\n",
    "\n",
    "                    if l1 > 0:\n",
    "                        j1_list = [l1-0.5, l1+0.5]\n",
    "                    else:\n",
    "                        j1_list = [0.5]\n",
    "\n",
    "                    if l2 > 0:\n",
    "                        j2_list = [l2-0.5, l2+0.5]\n",
    "                    else:\n",
    "                        j2_list = [0.5]\n",
    "\n",
    "                    for j1 in j1_list:\n",
    "                        for j2 in j2_list:\n",
    "                            frequency = atom.getTransitionFrequency(n1, l1, j1, n2, l2, j2) / 1e12\n",
    "                            #dipole = atom.getReducedMatrixElementL(n1, l1, j1, n2, l2, j2)\n",
    "\n",
    "                            mj1_list = np.arange(-j1, j1+1, 1)\n",
    "                            mj2_list = np.arange(-j2, j2+1, 1)\n",
    "                            \n",
    "                            for mj1 in mj1_list:\n",
    "                                for mj2 in mj2_list:\n",
    "                                    if frequency > 0:\n",
    "                                        dipole = get_dipole_moment(n1, l1, j1, mj1, n2, l2, j2, mj2, q)\n",
    "                                    else:\n",
    "                                        dipole = get_dipole_moment(n2, l2, j2, mj2, n1, l1, j1, mj1, -q)\n",
    "                                \n",
    "                                    if np.abs(dipole) > 1e-5:\n",
    "                                            wavelength = atom.getTransitionWavelength(n1, l1, j1, n2, l2, j2)/1e-9\n",
    "                                            #f.write(\"%3d %3d %5.1f %5.1f %3d %3d %5.1f %5.1f  %le  %le  %le  %s <-> %s\\n\" % \\\n",
    "                                            #        (n1, l1, j1, mj1, n2, l2, j2, mj2, \\\n",
    "                                            #         frequency, wavelength, dipole,  \\\n",
    "                                            #         printStateStringLatex(n1, l1, j1), \\\n",
    "                                            #         printStateStringLatex(n2, l2, j2)))\n",
    "                                            f.write(\"%3d %3d %5.1f %5.1f %3d %3d %5.1f %5.1f  %le  %le  %le\\n\" % \\\n",
    "                                                    (n1, l1, j1, mj1, n2, l2, j2, mj2, \\\n",
    "                                                     frequency, wavelength, dipole))"
   ]
  },
  {
   "cell_type": "markdown",
   "id": "adaptive-study",
   "metadata": {},
   "source": [
    "Export information of energy levels, including energy and lifetime, to file \"levels.dat\""
   ]
  },
  {
   "cell_type": "code",
   "execution_count": 184,
   "id": "thrown-butterfly",
   "metadata": {},
   "outputs": [],
   "source": [
    "n_max = 30\n",
    "l_max = 4\n",
    "atom = Rubidium85()\n",
    "\n",
    "with open(\"levels.dat\", \"w\") as f:\n",
    "    for n in range(5, n_max):\n",
    "        for l in range(0, l_max):\n",
    "            j_list = []\n",
    "            if l > 0:\n",
    "                j_list = [l-0.5, l+0.5]\n",
    "            else:\n",
    "                j_list = [0.5]\n",
    "            for j in j_list:\n",
    "                energy = atom.getEnergy(n, l, j)\n",
    "                lifetime = atom.getStateLifetime(n, l, j)/1e-9\n",
    "                f.write(\"%3d %3d %5.1f  %le  %le\\n\" % (n, l, j, energy, lifetime))"
   ]
  },
  {
   "cell_type": "markdown",
   "id": "rubber-frontier",
   "metadata": {},
   "source": [
    "Test with the calcuation of spontaneous radiation"
   ]
  },
  {
   "cell_type": "code",
   "execution_count": 168,
   "id": "impossible-function",
   "metadata": {
    "scrolled": true
   },
   "outputs": [
    {
     "name": "stdout",
     "output_type": "stream",
     "text": [
      "109.0030907849148 us\n",
      "inf us\n"
     ]
    },
    {
     "name": "stderr",
     "output_type": "stream",
     "text": [
      "/home/tianmin/Applications/anaconda3/lib/python3.7/site-packages/ipykernel_launcher.py:19: RuntimeWarning: divide by zero encountered in double_scalars\n"
     ]
    }
   ],
   "source": [
    "atom = Rubidium85()\n",
    "\n",
    "n1 = 30\n",
    "l1 = 0\n",
    "j1 = 0.5\n",
    "\n",
    "n2 = 3\n",
    "l2 = 1\n",
    "j2 = 0.5\n",
    "\n",
    "temperature = 300\n",
    "\n",
    "\n",
    "rate = atom.getTransitionRate(n1, l1, j1, n2, l2, j2, temperature=300)\n",
    "print(1. / rate / 1e-6, \"us\")\n",
    "\n",
    "rate = atom.getTransitionRate(n2, l2, j2, n1, l1, j1, temperature=300)\n",
    "print(1. / rate / 1e-6, \"us\")"
   ]
  },
  {
   "cell_type": "markdown",
   "id": "unique-combining",
   "metadata": {},
   "source": [
    "Calculation of spontaneous radiation, recording all channels in file \"spontaneous.dat\""
   ]
  },
  {
   "cell_type": "code",
   "execution_count": 185,
   "id": "synthetic-transcript",
   "metadata": {},
   "outputs": [],
   "source": [
    "n_max = 30\n",
    "l_max = 4\n",
    "atom = Rubidium85()\n",
    "temperature = 300\n",
    "\n",
    "def check_spontaneous_transition_rule(l1, l2, j1, j2):\n",
    "    return check_selection_rule_wigner_6j(l1, l2, 1, j2, j1, 0.5)\n",
    "\n",
    "with open(\"spontaneous.dat\", \"w\") as f:\n",
    "    for n1 in range(5, n_max):\n",
    "        for n2 in range(5, n_max):\n",
    "            for l1 in range(0, l_max):\n",
    "                for l2 in range(0, l_max):\n",
    "\n",
    "                    j1_list = []\n",
    "                    j2_list = []\n",
    "\n",
    "                    if l1 > 0:\n",
    "                        j1_list = [l1-0.5, l1+0.5]\n",
    "                    else:\n",
    "                        j1_list = [0.5]\n",
    "\n",
    "                    if l2 > 0:\n",
    "                        j2_list = [l2-0.5, l2+0.5]\n",
    "                    else:\n",
    "                        j2_list = [0.5]\n",
    "\n",
    "                    for j1 in j1_list:\n",
    "                        for j2 in j2_list:\n",
    "                            if n1==n2 and l1==l2 and j1==j2:\n",
    "                                continue\n",
    "                            frequency = atom.getTransitionFrequency(n1, l1, j1, n2, l2, j2)/1e12\n",
    "                            wavelength = atom.getTransitionWavelength(n1, l1, j1, n2, l2, j2)/1e-9\n",
    "                            if frequency < 0: # E1 > E2\n",
    "                                if check_spontaneous_transition_rule(l1, l2, j1, j2) > 0:\n",
    "                                    rate = atom.getTransitionRate(n1, l1, j1, n2, l2, j2, temperature=temperature)\n",
    "                                    if rate > 1e-5:\n",
    "                                        f.write(\"%3d %3d %5.1f %3d %3d %5.1f  %le  %le  %le\\n\" % \\\n",
    "                                            (n1, l1, j1, n2, l2, j2, -frequency, -wavelength, rate))                            \n",
    "                  \n",
    "                "
   ]
  }
 ],
 "metadata": {
  "kernelspec": {
   "display_name": "Python 3",
   "language": "python",
   "name": "python3"
  },
  "language_info": {
   "codemirror_mode": {
    "name": "ipython",
    "version": 3
   },
   "file_extension": ".py",
   "mimetype": "text/x-python",
   "name": "python",
   "nbconvert_exporter": "python",
   "pygments_lexer": "ipython3",
   "version": "3.7.9"
  }
 },
 "nbformat": 4,
 "nbformat_minor": 5
}
